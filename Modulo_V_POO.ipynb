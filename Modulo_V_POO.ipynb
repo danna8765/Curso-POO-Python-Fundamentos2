{
 "cells": [
  {
   "cell_type": "markdown",
   "metadata": {},
   "source": [
    "# MODULO V: DINAMISMO EN OBJETOS Y BUENAS PRACTICAS\n",
    "\n",
    "En python es posible agrega atributos a un objeto después de haber sido creado. Estos atributos solo pertenecen a ese objeto especifico."
   ]
  },
  {
   "cell_type": "code",
   "execution_count": 2,
   "metadata": {},
   "outputs": [
    {
     "name": "stdout",
     "output_type": "stream",
     "text": [
      "Camisa 20000 Ropa\n"
     ]
    }
   ],
   "source": [
    "class Producto:\n",
    "    def __init__(self, nombre):\n",
    "        self.nombre = nombre\n",
    "\n",
    "p1 = Producto(\"Camisa\")\n",
    "p2 = Producto(\"Pantalón\")\n",
    "\n",
    "# AGREGAR ATRUBUTOS DINAMICAMENTE O AL VUELO\n",
    "\n",
    "p1.precio = 20000\n",
    "p1.categoria = \"Ropa\"\n",
    "\n",
    "p2.cantidad = 10\n",
    "\n",
    "print(p1.nombre, p1.precio, p1.categoria)"
   ]
  },
  {
   "cell_type": "markdown",
   "metadata": {},
   "source": [
    "**RIESGO**: Si no se controlan estos atributos, se puede cometer errores por acceder a miembros que no existen"
   ]
  },
  {
   "cell_type": "markdown",
   "metadata": {},
   "source": [
    "## DIFERENCIA ENTRE ATRIBUTOS DE CLASE Y ATRIBUTOS DE INSTANCIA\n",
    "\n",
    "* Los atributos de clase son compartidos por todos los objetos\n",
    "* Los atributos de instancia pertenecen solo al objeto en el que se definen"
   ]
  },
  {
   "cell_type": "code",
   "execution_count": 4,
   "metadata": {},
   "outputs": [
    {
     "name": "stdout",
     "output_type": "stream",
     "text": [
      "LA BODEGA\n",
      "EL EXITO\n"
     ]
    }
   ],
   "source": [
    "class Producto:\n",
    "    tienda = \"LA BODEGA\"\n",
    "    \n",
    "    def __init__(self, nombre):\n",
    "        self.nombre = nombre\n",
    "\n",
    "p1 = Producto(\"ARROZ\")\n",
    "p2 = Producto(\"LECHE\")\n",
    "\n",
    "print(p1.tienda)\n",
    "Producto.tienda = \"EL EXITO\"\n",
    "print(p2.tienda)\n"
   ]
  },
  {
   "cell_type": "markdown",
   "metadata": {},
   "source": [
    "## METODOS **get** y **set**\n",
    "\n",
    "Los métodos **get** y **set** son utilizados para obtener y establecer el valor"
   ]
  },
  {
   "cell_type": "code",
   "execution_count": 7,
   "metadata": {},
   "outputs": [
    {
     "name": "stdout",
     "output_type": "stream",
     "text": [
      "Nombre: Juan, Edad: 30\n",
      "La edad no puede ser negativa\n",
      "Nombre: Juan, Edad: 23\n"
     ]
    }
   ],
   "source": [
    "class Persona:\n",
    "    def __init__(self, nombre, edad):\n",
    "        self.__nombre = nombre\n",
    "        self.__edad = edad\n",
    "    \n",
    "    def get_nombre(self):\n",
    "        return self.__nombre\n",
    "    \n",
    "    def set_edad(self, nueva_edad):\n",
    "        if nueva_edad >= 0:\n",
    "            self.__edad = nueva_edad\n",
    "        else:\n",
    "            print(\"La edad no puede ser negativa\")\n",
    "    \n",
    "    def mostrar_info(self):\n",
    "        print(f\"Nombre: {self.__nombre}, Edad: {self.__edad}\")\n",
    "        \n",
    "p = Persona(\"Juan\", 30)\n",
    "p.mostrar_info()\n",
    "p.set_edad(-5)\n",
    "p.set_edad(23)\n",
    "p.mostrar_info()"
   ]
  },
  {
   "cell_type": "markdown",
   "metadata": {},
   "source": [
    "## BUENAS PRACTICAS PARA CLASES EN PYTHON\n",
    "\n",
    "* Usar nombre significativos para las clases atributos y metodos\n",
    "* Definir atributos en el constructor\n",
    "* Encapsular los datos sensibles (__privado)\n",
    "* Proveer acceso con get set o property y setter\n",
    "* evitar creat atributos al vuelo"
   ]
  },
  {
   "cell_type": "markdown",
   "metadata": {},
   "source": [
    "## ACTIVIDAD PRACTICA"
   ]
  },
  {
   "cell_type": "markdown",
   "metadata": {},
   "source": [
    "1. Crea una clase Libro con los atributos titulo y autor\n",
    "2. Agrega un atributo de clase llamado editorial con valor \"Educativa\"\n",
    "3. Crea dinamicamente atributos para cada objeto: precio y páginas\n",
    "4. Implementa métodos get_autor y set_auto o  @property y @auto.setter para contolar el aceo al autor\n",
    "5. Muestra la informaciond e cada libro incluyendo atributos dinámicos.\n"
   ]
  },
  {
   "cell_type": "markdown",
   "metadata": {},
   "source": []
  },
  {
   "cell_type": "code",
   "execution_count": 1,
   "metadata": {},
   "outputs": [
    {
     "name": "stdout",
     "output_type": "stream",
     "text": [
      "Título: Cien Años de Soledad\n",
      "Autor: Gabriel García Márquez\n",
      "Editorial: Educativa\n",
      "Precio: 35000\n",
      "Páginas: 417\n",
      "------------------------------\n",
      "Título: El Principito\n",
      "Autor: Antoine de Saint-Exupéry\n",
      "Editorial: Educativa\n",
      "Precio: 15000\n",
      "Páginas: 96\n",
      "------------------------------\n",
      "Autor original libro1: Gabriel García Márquez\n",
      "Autor modificado libro1: Gabo\n"
     ]
    }
   ],
   "source": [
    "class Libro:\n",
    "    # Atributo de clase\n",
    "    editorial = \"Educativa\"\n",
    "\n",
    "    def __init__(self, titulo, autor):\n",
    "        self.titulo = titulo\n",
    "        self._autor = autor  # Usamos _autor para controlar acceso con property\n",
    "\n",
    "    # Propiedad para autor (getter)\n",
    "    @property\n",
    "    def autor(self):\n",
    "        return self._autor\n",
    "\n",
    "    # Setter para autor\n",
    "    @autor.setter\n",
    "    def autor(self, nuevo_autor):\n",
    "        # Aquí podrías agregar validaciones si quieres\n",
    "        self._autor = nuevo_autor\n",
    "\n",
    "    # Método para mostrar información\n",
    "    def mostrar_info(self):\n",
    "        # Mostrar título, autor, editorial y los atributos dinámicos si existen\n",
    "        print(f\"Título: {self.titulo}\")\n",
    "        print(f\"Autor: {self.autor}\")\n",
    "        print(f\"Editorial: {Libro.editorial}\")\n",
    "\n",
    "        # Mostrar atributos dinámicos si están definidos\n",
    "        if hasattr(self, 'precio'):\n",
    "            print(f\"Precio: {self.precio}\")\n",
    "        if hasattr(self, 'paginas'):\n",
    "            print(f\"Páginas: {self.paginas}\")\n",
    "        print('-' * 30)\n",
    "\n",
    "\n",
    "# Crear objetos Libro\n",
    "libro1 = Libro(\"Cien Años de Soledad\", \"Gabriel García Márquez\")\n",
    "libro2 = Libro(\"El Principito\", \"Antoine de Saint-Exupéry\")\n",
    "\n",
    "# Crear atributos dinámicos para cada objeto\n",
    "libro1.precio = 35000\n",
    "libro1.paginas = 417\n",
    "\n",
    "libro2.precio = 15000\n",
    "libro2.paginas = 96\n",
    "\n",
    "# Mostrar información de los libros\n",
    "libro1.mostrar_info()\n",
    "libro2.mostrar_info()\n",
    "\n",
    "# Probar los métodos get y set para autor\n",
    "print(\"Autor original libro1:\", libro1.autor)\n",
    "libro1.autor = \"Gabo\"\n",
    "print(\"Autor modificado libro1:\", libro1.autor)\n"
   ]
  }
 ],
 "metadata": {
  "kernelspec": {
   "display_name": "Python 3",
   "language": "python",
   "name": "python3"
  },
  "language_info": {
   "codemirror_mode": {
    "name": "ipython",
    "version": 3
   },
   "file_extension": ".py",
   "mimetype": "text/x-python",
   "name": "python",
   "nbconvert_exporter": "python",
   "pygments_lexer": "ipython3",
   "version": "3.12.1"
  }
 },
 "nbformat": 4,
 "nbformat_minor": 2
}
